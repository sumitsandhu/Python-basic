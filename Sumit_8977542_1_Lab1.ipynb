{
 "cells": [
  {
   "cell_type": "markdown",
   "metadata": {},
   "source": [
    "# CSCN8000 – Artificial Intelligence Algorithms and Mathematics\n",
    "\n",
    "## Lab 1: Basic NumPy Operations\n",
    "\n",
    "### Student_Name = Sumit, Student ID: 8977542\n",
    "<mark>Part A- Create a Notebook to demonstrate NumPy Operations.</mark>"
   ]
  },
  {
   "cell_type": "markdown",
   "metadata": {},
   "source": [
    "### Q1. Create an array that starts from the integer 1, ends at 20, incremented by 3."
   ]
  },
  {
   "cell_type": "markdown",
   "metadata": {},
   "source": [
    "<mark>Comments</mark> : created an array ( starting  point is 1 : end point is 20 : step size 3)"
   ]
  },
  {
   "cell_type": "code",
   "execution_count": 56,
   "metadata": {},
   "outputs": [
    {
     "name": "stdout",
     "output_type": "stream",
     "text": [
      "[1, 4, 7, 10, 13, 16, 19]\n"
     ]
    }
   ],
   "source": [
    "array = list(range(1, 20, 3))\n",
    "print(array)\n"
   ]
  },
  {
   "cell_type": "markdown",
   "metadata": {},
   "source": [
    "### Q2. Create a new array of shape (3,) with random numbers between 0 and 1"
   ]
  },
  {
   "cell_type": "markdown",
   "metadata": {},
   "source": [
    "<mark>Comments</mark> : Random array is generated range between 0 to 1 (3 numbers only)"
   ]
  },
  {
   "cell_type": "code",
   "execution_count": 57,
   "metadata": {},
   "outputs": [
    {
     "name": "stdout",
     "output_type": "stream",
     "text": [
      "[0.3366884  0.9941061  0.28371851]\n"
     ]
    }
   ],
   "source": [
    "import numpy as np\n",
    "array1 = np.random.rand(3)\n",
    "\n",
    "print(array1)\n"
   ]
  },
  {
   "cell_type": "markdown",
   "metadata": {},
   "source": [
    "### Q3. Create a 2 D array [[10,20,45],[30,12,16],[42,17,56]] and perform the following operations: Slice the 2D array to get the first two rows, slice the 2D array to get the last two rows."
   ]
  },
  {
   "cell_type": "markdown",
   "metadata": {},
   "source": [
    "<mark>Comments</mark> : \n",
    "\n",
    "Step 1 : array is created \n",
    "\n",
    "step 2 : first and second row sliced out\n",
    "\n",
    "step 3 : second and fouth row sliced out\n",
    "\n",
    "step 4 : printing the sliced arrays"
   ]
  },
  {
   "cell_type": "code",
   "execution_count": 58,
   "metadata": {},
   "outputs": [
    {
     "name": "stdout",
     "output_type": "stream",
     "text": [
      "Original 2D array:\n",
      "[[10 20 45]\n",
      " [30 12 16]\n",
      " [42 17 56]]\n",
      "\n",
      "Sliced array - 1st and 2nd row:\n",
      "[[10 20 45]\n",
      " [30 12 16]]\n",
      "\n",
      "Sliced array - 2nd and 3rd row:\n",
      "[[30 12 16]\n",
      " [42 17 56]]\n"
     ]
    }
   ],
   "source": [
    "import numpy as np\n",
    "\n",
    "\n",
    "array_2 = np.array([[10, 20, 45], [30, 12, 16], [42, 17, 56]])\n",
    "\n",
    "# 1st and 2nd row\n",
    "row1_2 = array_2[:2]\n",
    "\n",
    "# 2nd and 3rd row\n",
    "row2_3 = array_2[1:]\n",
    "\n",
    "# Printing outputs\n",
    "print(\"Original 2D array:\")\n",
    "print(array_2)\n",
    "print(\"\\nSliced array - 1st and 2nd row:\")\n",
    "print(row1_2)\n",
    "print(\"\\nSliced array - 2nd and 3rd row:\")\n",
    "print(row2_3)\n"
   ]
  },
  {
   "cell_type": "markdown",
   "metadata": {},
   "source": [
    "### Q4. Create two 2x2 arrays and demonstrate how you can stack the elements vertically, horizontally, and split the arrays into smaller arrays."
   ]
  },
  {
   "cell_type": "markdown",
   "metadata": {},
   "source": [
    "<mark>Comments</mark> : \n",
    "\n",
    "Step 1 : two array are created\n",
    "\n",
    "Step 2 : use np.vstack for vertical stacking (both arrays)\n",
    "\n",
    "step 3 : use np.h stack for horizontal stacking (both arrays)\n",
    "\n",
    "step 4 : Spliting into two smaller groups vertically by using np.vsplit\n",
    "\n",
    "step 5 : printng outputs"
   ]
  },
  {
   "cell_type": "code",
   "execution_count": 59,
   "metadata": {},
   "outputs": [
    {
     "name": "stdout",
     "output_type": "stream",
     "text": [
      "Array 1:\n",
      " [[1 5]\n",
      " [3 1]]\n",
      "\n",
      "Array 2:\n",
      " [[4 6]\n",
      " [7 8]]\n",
      "\n",
      "Vertical Stack:\n",
      " [[1 5]\n",
      " [3 1]\n",
      " [4 6]\n",
      " [7 8]]\n",
      "\n",
      "Horizontal Stack:\n",
      " [[1 5 4 6]\n",
      " [3 1 7 8]]\n",
      "\n",
      "Split Vertical:\n",
      " [array([[1, 5],\n",
      "       [3, 1]]), array([[4, 6],\n",
      "       [7, 8]])]\n",
      "\n",
      "Split Horizontal:\n",
      " [array([[1, 5],\n",
      "       [3, 1]]), array([[4, 6],\n",
      "       [7, 8]])]\n"
     ]
    }
   ],
   "source": [
    "import numpy as np\n",
    "\n",
    "# Create two 2x2 arrays\n",
    "array1 = np.array([[1, 5], [3, 1]])\n",
    "array2 = np.array([[4, 6], [7, 8]])\n",
    "\n",
    "# Vertical stacking\n",
    "vertical_stack = np.vstack((array1, array2))\n",
    "\n",
    "# Horizontal stacking\n",
    "horizontal_stack = np.hstack((array1, array2))\n",
    "\n",
    "# Splitting into smaller arrays\n",
    "vertical = np.vsplit(vertical_stack, 2)  \n",
    "horizontal = np.hsplit(horizontal_stack, 2) \n",
    "\n",
    "print(\"Array 1:\\n\", array1)\n",
    "print(\"\\nArray 2:\\n\", array2)\n",
    "\n",
    "print(\"\\nVertical Stack:\\n\", vertical_stack)\n",
    "print(\"\\nHorizontal Stack:\\n\", horizontal_stack)\n",
    "\n",
    "print(\"\\nSplit Vertical:\\n\", vertical)\n",
    "print(\"\\nSplit Horizontal:\\n\", horizontal)\n"
   ]
  },
  {
   "cell_type": "markdown",
   "metadata": {},
   "source": [
    "### Q5.Create two matrices 𝑋= ([[5,7,2],[4,5,6],[7,4 ,2]]),𝑌= ([[4,2],[6,2],[4,2]]),\n",
    "\n",
    " ### operations : \n",
    " \n",
    "### 1. Is it possible to multiply these matrices? \n",
    " \n",
    " ### 2. Demonstrate the case when it is not possible to.\n"
   ]
  },
  {
   "cell_type": "markdown",
   "metadata": {},
   "source": [
    "<mark>Comments</mark> :\n",
    "\n",
    "step 1 : creating X and Y matrices\n",
    "\n",
    "step 2 : using if condition by checking shape that multiply is possible\n",
    "\n"
   ]
  },
  {
   "cell_type": "code",
   "execution_count": 60,
   "metadata": {},
   "outputs": [
    {
     "name": "stdout",
     "output_type": "stream",
     "text": [
      "(3, 3)\n",
      "Matrix Multiplication Result:\n",
      " [[70 28]\n",
      " [70 30]\n",
      " [60 26]]\n",
      "\n",
      "Multiplication is not possible because column in a is not equal to  rows in b.\n"
     ]
    }
   ],
   "source": [
    "import numpy as np\n",
    "\n",
    "# Create matrices X and Y\n",
    "X = np.array([[5, 7, 2], [4, 5, 6], [7, 4, 2]])\n",
    "Y = np.array([[4, 2], [6, 2], [4, 2]])\n",
    "\n",
    "\n",
    "print(X.shape)\n",
    "\n",
    "# Checking multiplication is possible\n",
    "if X.shape[1] == Y.shape[0]:\n",
    "    # If possible, perform matrix multiplication\n",
    "    result = np.dot(X, Y)\n",
    "    print(\"Matrix Multiplication Result:\\n\", result)\n",
    "else:\n",
    "    print(\"Multiplication is not possible because column in X is not equal to  rows in Y.\")\n",
    "\n",
    "a = np.array([[1,2,5], [2,3,4]])\n",
    "b = np.array([[2,2], [3,3]])\n",
    "\n",
    "if a.shape[1] == b.shape[0]:\n",
    "    # If possible, perform matrix multiplication\n",
    "    result = np.dot(a, b)\n",
    "    print(\"\\nMatrix Multiplication Result:\\n\", result)\n",
    "else:\n",
    "    print(\"\\nMultiplication is not possible because column in a is not equal to  rows in b.\")\n",
    "\n"
   ]
  },
  {
   "cell_type": "markdown",
   "metadata": {},
   "source": [
    "### Q6.Create two arrays, 𝑥 = ([2,−1,−8]) 𝑦 = ([3,1,−2]),\n",
    "### operations :\n",
    "### a.Find the Shape, Number of dimensions of vector x.\n",
    "\n",
    "### b.Reshape the vector x to a matrix of size (3,1) and determine the number of dimensions after reshaping y to a matrix of (3,1)."
   ]
  },
  {
   "cell_type": "markdown",
   "metadata": {},
   "source": [
    "<mark>Comments</mark> :\n",
    "\n",
    "step 1 : creating X and Y array\n",
    "\n",
    "step 2 : finding shape and dimentions of x vector using  x_shape and x_dimention\n",
    "\n",
    "step 3 : reshaping of x to (3,1) using x_reshape then finding X dimention\n",
    "\n",
    "step 4 : steps repeated for Y matrix\n",
    "\n",
    "step 5 : printing outputs\n",
    "\n"
   ]
  },
  {
   "cell_type": "code",
   "execution_count": 61,
   "metadata": {},
   "outputs": [
    {
     "name": "stdout",
     "output_type": "stream",
     "text": [
      "a. Shape of vector x: (3,)\n",
      "   Number of dimensions of vector x: 1\n",
      "\n",
      "b. Reshaped matrix of x :\n",
      " [[ 2]\n",
      " [-1]\n",
      " [-8]]\n",
      "   dimensions after reshaping x: 2\n",
      "\n",
      "   Reshaped matrix of y :\n",
      " [[ 3]\n",
      " [ 1]\n",
      " [-2]]\n",
      "   dimensions after reshaping y: 2\n"
     ]
    }
   ],
   "source": [
    "import numpy as np\n",
    "\n",
    "# Create two arrays x and y\n",
    "x = np.array([2, -1, -8])\n",
    "y = np.array([3, 1, -2])\n",
    "\n",
    "# a. find Shape and Number  vector x\n",
    "x_shape = x.shape\n",
    "x_dimension = x.ndim\n",
    "\n",
    "# b. Reshape x \n",
    "x_reshape = x.reshape((3, 1))\n",
    "x_reshape_d = x_reshape.ndim\n",
    "\n",
    "#  Reshape y \n",
    "y_reshaped = y.reshape((3, 1))\n",
    "y_reshaped_d = y_reshaped.ndim\n",
    "\n",
    "# Print results\n",
    "print(\"a. Shape of vector x:\", x_shape)\n",
    "print(\"   Number of dimensions of vector x:\", x_dimension)\n",
    "print(\"\\nb. Reshaped matrix of x :\\n\", x_reshape)\n",
    "print(\"   dimensions after reshaping x:\", x_reshape_d)\n",
    "print(\"\\n   Reshaped matrix of y :\\n\", y_reshaped)\n",
    "print(\"   dimensions after reshaping y:\", y_reshaped_d)\n"
   ]
  },
  {
   "cell_type": "markdown",
   "metadata": {},
   "source": [
    "### Q7.How does broadcasting work? Demonstrate the subtraction, multiplication by considering a 3 x 3 matrix."
   ]
  },
  {
   "cell_type": "markdown",
   "metadata": {},
   "source": [
    "Broadcasting : The idea behind broadcasting is to repeat the values of the smaller size matrix to make it appear as though it is the same as the larger one when we have two matrices of different forms. It is comparable to replicating the smaller matrix to match the larger one's dimensions. Even in cases where the matrices have different sizes, it enables us to perform the mathematical action.    "
   ]
  },
  {
   "cell_type": "markdown",
   "metadata": {},
   "source": [
    "<mark>Comments</mark> :\n",
    "\n",
    "step 1 : creating 3x3 matrix\n",
    "\n",
    "step 2 : subtracting and multiplying array to 3x3 matrix \n",
    "\n",
    "step 3 : printing outputs"
   ]
  },
  {
   "cell_type": "code",
   "execution_count": 62,
   "metadata": {},
   "outputs": [
    {
     "name": "stdout",
     "output_type": "stream",
     "text": [
      "Matrix 3*3:\n",
      " [[7 5 3]\n",
      " [4 5 6]\n",
      " [7 8 9]]\n",
      "\n",
      "Subtraction :\n",
      " [[3 3 0]\n",
      " [0 3 3]\n",
      " [3 6 6]]\n",
      "\n",
      "Multiplication :\n",
      " [[56 25 12]\n",
      " [32 25 24]\n",
      " [56 40 36]]\n"
     ]
    }
   ],
   "source": [
    "import numpy as np\n",
    "\n",
    "#Matrix 1 (shape(3,3))\n",
    "\n",
    "matrix = np.array([[7, 5, 3],\n",
    "                   [4, 5, 6],\n",
    "                   [7, 8, 9]])\n",
    "\n",
    "\n",
    "#  1D array is subtracted and multiplied\n",
    "subtract_array = np.array([4, 2, 3])\n",
    "multiply_array = np.array([8, 5, 4])\n",
    "\n",
    "# subtraction\n",
    "subtraction = matrix - subtract_array\n",
    "\n",
    "#  multiplication\n",
    "multiplication = matrix * multiply_array\n",
    "\n",
    "# Print the original matrix and the results\n",
    "print(\"Matrix 3*3:\\n\", matrix)\n",
    "print(\"\\nSubtraction :\\n\", subtraction)\n",
    "print(\"\\nMultiplication :\\n\", multiplication)\n"
   ]
  },
  {
   "cell_type": "markdown",
   "metadata": {},
   "source": [
    "# Part B- Linear Equations"
   ]
  },
  {
   "cell_type": "markdown",
   "metadata": {},
   "source": [
    "### Determine the singularity of the system of equations, comment on the expected solution of the system. Solve the system of equations if possible. Justify the reason why you believe the system can or cannot be solved using NumPy functions."
   ]
  },
  {
   "cell_type": "markdown",
   "metadata": {},
   "source": [
    "### Question 1 :\n",
    "\n",
    "Part B.1\n",
    "\n",
    "4x + y - 2z = 10\n",
    "\n",
    "2x - 3y + 2z = -4\n",
    "\n",
    "x + 2y + 3z = 6"
   ]
  },
  {
   "cell_type": "markdown",
   "metadata": {},
   "source": [
    "<mark>Comments</mark> :\n",
    "\n",
    "step 1 : arranging equation into matrix order\n",
    "\n",
    "step 2 : Calculating Determinents by using np.linalg.det\n",
    "\n",
    "step 3 : printing outputs  shows that the result is not zero then it is a <mark>non singular matrix</mark>"
   ]
  },
  {
   "cell_type": "code",
   "execution_count": 63,
   "metadata": {},
   "outputs": [
    {
     "name": "stdout",
     "output_type": "stream",
     "text": [
      "determinent is-70.00000000000003 , singular : False\n"
     ]
    }
   ],
   "source": [
    "# Coefficients of equation 1\n",
    "equation_1 = np.array([[4, 1, -2],\n",
    "                      [2, -3, 2],\n",
    "                      [1, 2, 3]])\n",
    "\n",
    "# Calculating the determinant of equation 1\n",
    "determinant_equation_1 = np.linalg.det(equation_1)\n",
    "\n",
    "# Checking A is singular or non singular\n",
    "is_singular = determinant_equation_1 == 0\n",
    "\n",
    "print(f\"determinent is{determinant_equation_1} , singular : {is_singular}\")\n"
   ]
  },
  {
   "cell_type": "markdown",
   "metadata": {},
   "source": [
    "### Question 2 :\n",
    "\n",
    "Part B.2 \n",
    "\n",
    "2x - y + 3z + 4w = 10 \n",
    "\n",
    "4x - 2y + 6z + 8w = 20 \n",
    "\n",
    "3x + y - 2z + 2w = 3 \n",
    "\n",
    "x + 3y - 4z + w = -1"
   ]
  },
  {
   "cell_type": "markdown",
   "metadata": {},
   "source": [
    "<mark>Comments</mark> :\n",
    "\n",
    "step 1 : arranging equation into matrix order\n",
    "\n",
    "step 2 : Calculating Determinents by using np.linalg.det\n",
    "\n",
    "step 3 : printing outputs  shows that the result is not zero then it is a <mark> singular matrix</mark>"
   ]
  },
  {
   "cell_type": "code",
   "execution_count": 64,
   "metadata": {},
   "outputs": [
    {
     "name": "stdout",
     "output_type": "stream",
     "text": [
      "determinent is 0.0 , singular : True\n"
     ]
    }
   ],
   "source": [
    "# Coefficients of equation 2\n",
    "equation_2 = np.array([[2, -1, 3, 4],\n",
    "               [4, -2, 6, 8],\n",
    "               [3, 1, -2, 2],\n",
    "               [1, 3, -4, 1]])\n",
    "\n",
    "# Calculating the determinant of equation 2\n",
    "determinant_equation = np.linalg.det(equation_2)\n",
    "\n",
    "# Checkinging A is singular or non singular\n",
    "is_singular2 = determinant_equation == 0\n",
    "\n",
    "print(f\"determinent is {determinant_equation} , singular : {is_singular2}\")\n"
   ]
  },
  {
   "cell_type": "code",
   "execution_count": null,
   "metadata": {},
   "outputs": [],
   "source": []
  }
 ],
 "metadata": {
  "kernelspec": {
   "display_name": "Python 3",
   "language": "python",
   "name": "python3"
  },
  "language_info": {
   "codemirror_mode": {
    "name": "ipython",
    "version": 3
   },
   "file_extension": ".py",
   "mimetype": "text/x-python",
   "name": "python",
   "nbconvert_exporter": "python",
   "pygments_lexer": "ipython3",
   "version": "3.11.7"
  }
 },
 "nbformat": 4,
 "nbformat_minor": 2
}
